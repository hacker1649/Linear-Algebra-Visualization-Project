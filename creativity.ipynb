{
 "cells": [
  {
   "cell_type": "markdown",
   "metadata": {},
   "source": [
    "#                     LA FINAL PROJECT CREATIVITY \n",
    "\n",
    "## TOPIC: Gaussian Elimination"
   ]
  },
  {
   "cell_type": "markdown",
   "metadata": {},
   "source": [
    "For our creativity we define some Python functions to solve linear systems. The algorithm is known as Gaussian Elimination, which we will simply refer to as **elimination** .  The idea of elimination is to exchange the system we are given with another system that has the same solution, but is much easier to solve.  To this end we will perform a series of steps called **row operations** which preserve the solution of the system while gradually making the solution more accessible.  There are three such operations we may perform.\n",
    "1. Exchange the position of two equations.\n",
    "2. Multiply an equation by any nonzero number.\n",
    "3. Replace any equation with the sum of itself and a multiple of another equation.\n",
    "\n"
   ]
  },
  {
   "cell_type": "markdown",
   "metadata": {},
   "source": [
    "<a id='GE1'></a>\n",
    "###  1:  Row operations and elimination\n",
    "\n",
    "Let's look at an example.\n",
    "\n",
    "$$\n",
    "\\begin{eqnarray*}\n",
    "x_1 - x_2 + x_3 & = & 3\\\\\n",
    "2x_1 + x_2 + 8x_3 & = & 18\\\\\n",
    "4x_1 + 2x_2 -3x_3 & = & -2 \n",
    "\\end{eqnarray*}\n",
    "$$\n",
    "\n",
    "We swap the first and last equation,\n",
    "\n",
    "$$\n",
    "\\begin{eqnarray*}\n",
    "4x_1 + 2x_2 -3x_3 & = & -2 \\\\\n",
    "2x_1 + x_2 + 8x_3 & = & 18\\\\\n",
    "x_1 - x_2 + x_3 & = & 3\n",
    "\\end{eqnarray*}\n",
    "$$\n",
    "\n",
    "or we could multiply the first equation by $5$,\n",
    "\n",
    "$$\n",
    "\\begin{eqnarray*}\n",
    "5x_1 - 5x_2 + 5x_3 & = & 15\\\\\n",
    "2x_1 + x_2 + 8x_3 & = & 18\\\\\n",
    "4x_1 + 2x_2 -3x_3 & = & -2 \n",
    "\\end{eqnarray*}\n",
    "$$\n",
    "\n",
    "or we could add 2 times the first equation to the last equation.\n",
    "\n",
    "\n",
    "$$\n",
    "\\begin{eqnarray*}\n",
    "x_1 - x_2 + x_3 & = & 3\\\\\n",
    "2x_1 + x_2 + 3x_3 & = & 8\\\\\n",
    "6x_1 \\quad\\quad -x_3 & = & 4 \n",
    "\\end{eqnarray*}\n",
    "$$\n",
    "\n",
    "The last operation is the most important because it allows us to *eliminate* a variable from one of the equations.  Note that the third equation no longer contains the $x_2$ term.\n",
    "\n",
    "Augmented Matrix: \n",
    "\n",
    "$$\n",
    "\\begin{equation}\n",
    "\\left[ \\begin{array}{rrrr} 1 & -1 & 1 & 3 \\\\ 2 & 1 & 8 & 18 \\\\ 4 & 2 & -3 & -2 \\end{array}\\right]\n",
    "\\end{equation}\n",
    "$$\n"
   ]
  },
  {
   "cell_type": "code",
   "execution_count": 1,
   "metadata": {},
   "outputs": [],
   "source": [
    "\n",
    "import numpy as np\n",
    "A=np.array([[1,-1,1,3],[2,1,8,18],[4,2,-3,-2]])##importing libraries"
   ]
  },
  {
   "cell_type": "markdown",
   "metadata": {},
   "source": [
    "We will first write a few function so that we can use it again for future calculations."
   ]
  },
  {
   "cell_type": "code",
   "execution_count": 2,
   "metadata": {},
   "outputs": [],
   "source": [
    "def RowSwap(A,k,l):\n",
    "\n",
    "#     A is a NumPy array.  RowSwap will return duplicate array with rows\n",
    "#     k and l swapped.\n",
    "\n",
    "    m = A.shape[0]  # m is number of rows in A\n",
    "    n = A.shape[1]  # n is number of columns in A\n",
    "    \n",
    "    B = np.copy(A).astype('float64')\n",
    "        \n",
    "    for j in range(n):\n",
    "        temp = B[k][j]\n",
    "        B[k][j] = B[l][j]\n",
    "        B[l][j] = temp\n",
    "        \n",
    "    return B\n",
    "\n",
    "def RowScale(A,k,scale):\n",
    "# =============================================================================\n",
    "#     A is a NumPy array.  ScaleRow will return duplicate array with the\n",
    "#     entries of row k multiplied by scale.\n",
    "# =============================================================================\n",
    "    m = A.shape[0]  # m is number of rows in A\n",
    "    n = A.shape[1]  # n is number of columns in A\n",
    "    \n",
    "    B = np.copy(A).astype('float64')\n",
    "\n",
    "    for j in range(n):\n",
    "        B[k][j] *= scale\n",
    "        \n",
    "    return B\n",
    "\n",
    "def RowAdd(A,k,l,scale):\n",
    "# =============================================================================\n",
    "#     A is a numpy array.  RowSwap will return duplicate array with row\n",
    "#     l modifed.  The new values will be the old values of row l added to \n",
    "#     the values of row k, multiplied by scale.\n",
    "# =============================================================================\n",
    "    m = A.shape[0]  # m is number of rows in A\n",
    "    n = A.shape[1]  # n is number of columns in A\n",
    "    \n",
    "    B = np.copy(A).astype('float64')\n",
    "        \n",
    "    for j in range(n):\n",
    "        B[l][j] += B[k][j]*scale\n",
    "        \n",
    "    return B\n",
    "    \n"
   ]
  },
  {
   "cell_type": "markdown",
   "metadata": {},
   "source": [
    "\n",
    "We now have three new functions called $\\texttt{RowSwap}$,$\\texttt{RowScale}$,and $\\texttt{RowAdd}$. "
   ]
  },
  {
   "cell_type": "code",
   "execution_count": 3,
   "metadata": {},
   "outputs": [],
   "source": [
    "B1 = RowSwap(A,0,2)\n",
    "B2 = RowScale(A,2,0.5)\n",
    "B3 = RowAdd(A,0,1,2)"
   ]
  },
  {
   "cell_type": "code",
   "execution_count": 4,
   "metadata": {},
   "outputs": [
    {
     "name": "stdout",
     "output_type": "stream",
     "text": [
      "[[ 1 -1  1  3]\n",
      " [ 2  1  8 18]\n",
      " [ 4  2 -3 -2]]\n",
      "\n",
      "\n",
      "[[ 1.  -1.   1.   3. ]\n",
      " [ 2.   1.   8.  18. ]\n",
      " [ 2.   1.  -1.5 -1. ]]\n"
     ]
    }
   ],
   "source": [
    "print(A)\n",
    "print('\\n')\n",
    "print(B2)"
   ]
  },
  {
   "cell_type": "markdown",
   "metadata": {},
   "source": [
    "The goal of elimination is to perform row operations on this array in order to produce a new array with a structure that looks something like this.\n",
    "\n",
    "$$\n",
    "\\begin{equation}\n",
    "\\left[ \\begin{array}{cccc} 1 & * & * & * \\\\ 0 & 1 & * & * \\\\ 0 & 0 & 1 & * \\end{array}\\right]\n",
    "\\end{equation}\n",
    "$$\n",
    "\n",
    "*(Note that the * symbols here represent different unknown values that may or may not be 0 or 1.)*\n",
    "\n",
    "We will carry out the row operations and save our progress as arrays with new names  after each step.  For example, we might name them $\\texttt{A1}$, $\\texttt{A2}$, $\\texttt{A3}$, etc. This way we can check the progress, or go back and make changes to our code if we like.  "
   ]
  },
  {
   "cell_type": "code",
   "execution_count": 5,
   "metadata": {},
   "outputs": [
    {
     "name": "stdout",
     "output_type": "stream",
     "text": [
      "[[ 1. -1.  1.  3.]\n",
      " [ 0.  3.  6. 12.]\n",
      " [ 4.  2. -3. -2.]] \n",
      "\n",
      "[[  1.  -1.   1.   3.]\n",
      " [  0.   3.   6.  12.]\n",
      " [  0.   6.  -7. -14.]] \n",
      "\n",
      "[[  1.  -1.   1.   3.]\n",
      " [  0.   3.   6.  12.]\n",
      " [  0.   0. -19. -38.]] \n",
      "\n",
      "[[  1.  -1.   1.   3.]\n",
      " [  0.   1.   2.   4.]\n",
      " [  0.   0. -19. -38.]] \n",
      "\n",
      "[[ 1. -1.  1.  3.]\n",
      " [ 0.  1.  2.  4.]\n",
      " [-0. -0.  1.  2.]]\n"
     ]
    }
   ],
   "source": [
    "## Add -2 times row 0 to row 1\n",
    "A1 = RowAdd(A,0,1,-2)\n",
    "print(A1,'\\n')\n",
    "\n",
    "## Add -4 times row 0 to row 2\n",
    "A2 = RowAdd(A1,0,2,-4)\n",
    "print(A2,'\\n')\n",
    "\n",
    "## Add -2 times row 1 to row 2\n",
    "A3 = RowAdd(A2,1,2,-2)\n",
    "print(A3,'\\n')\n",
    "\n",
    "## Multiply row 1 by 1/3\n",
    "A4 = RowScale(A3,1,1.0/3)\n",
    "print(A4,'\\n')\n",
    "\n",
    "## Multiply row 2 by 1/19\n",
    "A5 = RowScale(A4,2,1.0/-19.)\n",
    "print(A5)"
   ]
  },
  {
   "cell_type": "markdown",
   "metadata": {},
   "source": [
    "Now in equation form\n",
    "\n",
    "$$\n",
    "\\begin{eqnarray*}\n",
    "x_1 - x_2 + x_3 & = & 3\\\\\n",
    "x_2 + 2x_3 & = & 4\\\\\n",
    "x_3 & = & 2 \n",
    "\\end{eqnarray*}\n",
    "$$\n",
    "\n",
    "After the steps of elimination, we have what is known as a triangular system.  The solution to this system can be found without much effort by working backwards from the last equation.  The last equation tells us that $x_3 = 2$.  If we substitute that value into the second equation, we find that $x_2 = 0$.  Finally, if we substitute these values back into the first equation, we find that $x_1 = 1.$  This process for finding the solution of the triangular system is called **back substitution**."
   ]
  },
  {
   "cell_type": "code",
   "execution_count": 6,
   "metadata": {},
   "outputs": [
    {
     "name": "stdout",
     "output_type": "stream",
     "text": [
      "[[ 0 -6 -8  6]\n",
      " [-2 -4 -8  6]\n",
      " [-3  1  5 -7]]\n"
     ]
    }
   ],
   "source": [
    "R = np.random.randint(-8,8,size=(3,4))\n",
    "print(R)"
   ]
  },
  {
   "cell_type": "markdown",
   "metadata": {},
   "source": [
    "###  2: Finding pivots\n",
    "\n",
    "As critical entries are known as the **pivots**, and their locations in the matrix are called **pivot positions**.  By definition, pivots must be nonzero.  If a zero arises in a pivot position during the elimination steps, we can try to exchange the order of the rows to move a nonzero entry into the pivot position.  Let's first try this for a specific array before trying to write code that will work for a random array.\n",
    "\n",
    "\n",
    "$$\n",
    "\\begin{eqnarray*}\n",
    "x_1 - x_2 + x_3 & = & 3\\\\\n",
    "2x_1 - 2x_2 + 4x_3 & = & 8\\\\\n",
    "3x_1 \\quad\\quad -9x_3 & = & 0 \n",
    "\\end{eqnarray*}\n",
    "$$\n"
   ]
  },
  {
   "cell_type": "code",
   "execution_count": 7,
   "metadata": {},
   "outputs": [
    {
     "name": "stdout",
     "output_type": "stream",
     "text": [
      "[[ 1 -1  1  3]\n",
      " [ 2 -2  4  8]\n",
      " [ 3  0 -9  0]]\n"
     ]
    }
   ],
   "source": [
    "G=np.array([[1,-1,1,3],[2,-2,4,8],[3,0,-9,0]])\n",
    "print(G)\n"
   ]
  },
  {
   "cell_type": "code",
   "execution_count": 8,
   "metadata": {},
   "outputs": [
    {
     "name": "stdout",
     "output_type": "stream",
     "text": [
      "[[  1.  -1.   1.   3.]\n",
      " [  0.   0.   2.   2.]\n",
      " [  0.   3. -12.  -9.]]\n"
     ]
    }
   ],
   "source": [
    "## Add -2 times row 0 to row 1\n",
    "G1 = RowAdd(G,0,1,-2)\n",
    "## Add -3 times row 0 to row 2\n",
    "G2 = RowAdd(G1,0,2,-3)\n",
    "print(G2)"
   ]
  },
  {
   "cell_type": "markdown",
   "metadata": {},
   "source": [
    "Now there is a zero in the middle pivot position.  We can swap the middle and last equation in order to carry on the elimination"
   ]
  },
  {
   "cell_type": "code",
   "execution_count": 9,
   "metadata": {},
   "outputs": [
    {
     "name": "stdout",
     "output_type": "stream",
     "text": [
      "[[ 1. -1.  1.  3.]\n",
      " [ 0.  1. -4. -3.]\n",
      " [ 0.  0.  1.  1.]]\n"
     ]
    }
   ],
   "source": [
    "## Swap rows 1 and 2\n",
    "G3 = RowSwap(G2,1,2)\n",
    "## Scale the new row 1 by 1/3\n",
    "G4 = RowScale(G3,1,1./3)\n",
    "## Scale the new row 2 by 1/2\n",
    "G5 = RowScale(G4,2,1./2)\n",
    "print(G5)"
   ]
  },
  {
   "cell_type": "markdown",
   "metadata": {},
   "source": [
    "We write the system again as a familar set of equations.\n",
    "\n",
    "$$\n",
    "\\begin{eqnarray*}\n",
    "x_1 - x_2 + x_3 & = & 3\\\\\n",
    "x_2 - 4x_3 & = & -3\\\\\n",
    "x_3 & = & 1 \n",
    "\\end{eqnarray*}\n",
    "$$\n",
    "\n",
    "Applying back substitution, we find that $x_2 = 1$ and $x_1=3$.\n",
    "\n",
    "It is worth noting that the swapping of rows is only necessary as a matter of organization.  Here is another way that we could have done the elimination and ended up with a system that is just the same.\n"
   ]
  },
  {
   "cell_type": "code",
   "execution_count": 10,
   "metadata": {},
   "outputs": [
    {
     "name": "stdout",
     "output_type": "stream",
     "text": [
      "[[ 1. -1.  1.  3.]\n",
      " [ 0.  0.  1.  1.]\n",
      " [ 0.  1. -4. -3.]]\n"
     ]
    }
   ],
   "source": [
    "## Scale row 1 by 1/2\n",
    "G3_alternative = RowScale(G2,1,1./2)\n",
    "## Scale row 2 by 1/3\n",
    "G4_alternative = RowScale(G3_alternative,2,1./3)\n",
    "print(G4_alternative)"
   ]
  },
  {
   "cell_type": "markdown",
   "metadata": {},
   "source": [
    "The array produced represents the same simplified system, with the equations in a different order of course.\n",
    "\n",
    "$$\n",
    "\\begin{eqnarray*}\n",
    "x_1 - x_2 + x_3 & = & 3\\\\\n",
    "x_3 & = & 1 \\\\\n",
    "x_2 - 4x_3 & = & -3\n",
    "\\end{eqnarray*}\n",
    "$$\n",
    "\n",
    "The idea of back substitution works just as well with this form of the system, but the organization of the algorithm becomes slightly more complicated."
   ]
  },
  {
   "cell_type": "markdown",
   "metadata": {},
   "source": [
    "In this case exchanging the second and third rows does not help since both rows have a zero in the middle entry.  This means that *there is no pivot* in the second column.  Let's scale the rows and look at the result."
   ]
  },
  {
   "cell_type": "markdown",
   "metadata": {},
   "source": [
    "### 3)  Nonunique solution\n",
    "\n",
    "In this final example of elimination, we observe another possible outcome of the process.\n",
    "\n",
    "$$\n",
    "\\begin{eqnarray*}\n",
    "x_1 - x_2 + x_3 & = & 3\\\\\n",
    "2x_1 - 2x_2 + 4x_3 & = & 8\\\\\n",
    "3x_1 -3x_2 +3x_3 & = & 9 \n",
    "\\end{eqnarray*}\n",
    "$$\n"
   ]
  },
  {
   "cell_type": "code",
   "execution_count": 11,
   "metadata": {},
   "outputs": [
    {
     "name": "stdout",
     "output_type": "stream",
     "text": [
      "[[ 1 -1  1  3]\n",
      " [ 2 -2  4  8]\n",
      " [ 1 -1  3  5]]\n"
     ]
    }
   ],
   "source": [
    "F = np.array([[1,-1,1,3],[2,-2,4,8],[1,-1,3,5]])\n",
    "print(F)"
   ]
  },
  {
   "cell_type": "code",
   "execution_count": 12,
   "metadata": {},
   "outputs": [
    {
     "name": "stdout",
     "output_type": "stream",
     "text": [
      "[[ 1. -1.  1.  3.]\n",
      " [ 0.  0.  2.  2.]\n",
      " [ 0.  0.  2.  2.]]\n"
     ]
    }
   ],
   "source": [
    "## Add -2 times row 0 to row 1\n",
    "F1 = RowAdd(F,0,1,-2)\n",
    "## Add -3 times row 0 to row 2\n",
    "F2 = RowAdd(F1,0,2,-1)\n",
    "print(F2)"
   ]
  },
  {
   "cell_type": "markdown",
   "metadata": {},
   "source": [
    "Similar to the previous example, we see that there is no way to bring a nonzero number into the second column of the second row.  In this case though we see that the second and third equations do not contradict each other, but are in fact the same equation.\n",
    "\n",
    "$$\n",
    "\\begin{eqnarray*}\n",
    "x_1 - x_2 + x_3 & = & 3\\\\\n",
    "2x_3 & = & 2\\\\\n",
    "2x_3 & = & 2 \n",
    "\\end{eqnarray*}\n",
    "$$\n",
    "\n",
    "Let's do just two more row operations to simplify this system even further."
   ]
  },
  {
   "cell_type": "code",
   "execution_count": 13,
   "metadata": {},
   "outputs": [
    {
     "name": "stdout",
     "output_type": "stream",
     "text": [
      "[[ 1. -1.  1.  3.]\n",
      " [ 0.  0.  1.  1.]\n",
      " [ 0.  0.  0.  0.]]\n"
     ]
    }
   ],
   "source": [
    "## Add -1 times row 1 to row 2\n",
    "F3 = RowAdd(F2,1,2,-1)\n",
    "## Multiply row 1 by 1/2\n",
    "F4 = RowScale(F3,1,0.5)\n",
    "print(F4)"
   ]
  },
  {
   "cell_type": "markdown",
   "metadata": {},
   "source": [
    "Since the final equation is true for any values of $x_1$, $x_2$, $x_3$, we see that there are really only two equations to determine the values of the three unknowns.   \n",
    "\n",
    "$$\n",
    "\\begin{eqnarray*}\n",
    "x_1 - x_2 + x_3 & = & 3\\\\\n",
    "x_3 & = & 1\\\\\n",
    "0 & = & 0 \n",
    "\\end{eqnarray*}\n",
    "$$\n",
    "\n",
    "Since the middle equation tells us that $x_3=1$, we can plug that value into the first equation using the idea of back substitution.  This leaves us with the single equation $x_1-x_2 = 2$.  This equation, and thus the system as a whole, has an *infinite number of solutions*."
   ]
  },
  {
   "cell_type": "code",
   "execution_count": null,
   "metadata": {},
   "outputs": [],
   "source": []
  }
 ],
 "metadata": {
  "kernelspec": {
   "display_name": "Python 3",
   "language": "python",
   "name": "python3"
  },
  "language_info": {
   "codemirror_mode": {
    "name": "ipython",
    "version": 3
   },
   "file_extension": ".py",
   "mimetype": "text/x-python",
   "name": "python",
   "nbconvert_exporter": "python",
   "pygments_lexer": "ipython3",
   "version": "3.6.13"
  }
 },
 "nbformat": 4,
 "nbformat_minor": 4
}
